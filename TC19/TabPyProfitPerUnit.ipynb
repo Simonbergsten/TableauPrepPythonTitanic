{
 "cells": [
  {
   "cell_type": "code",
   "execution_count": 7,
   "metadata": {},
   "outputs": [],
   "source": [
    "from tabpy_tools.client import Client\n",
    "\n",
    "client = Client('http://localhost:9004/')"
   ]
  },
  {
   "cell_type": "code",
   "execution_count": 8,
   "metadata": {},
   "outputs": [],
   "source": [
    "#client.set_credentials('username', 'P@ssw0rd')"
   ]
  },
  {
   "cell_type": "code",
   "execution_count": 9,
   "metadata": {},
   "outputs": [],
   "source": [
    "def profitperunit(_arg1,_arg2):\n",
    "    import numpy as np\n",
    "    print(_arg1)\n",
    "    print(_arg2)\n",
    "    return np.divide(_arg1,_arg2).tolist()\n",
    "\n",
    "client.deploy('profitperunit', profitperunit, 'Divides profit by quantity',override=True)"
   ]
  },
  {
   "cell_type": "code",
   "execution_count": null,
   "metadata": {},
   "outputs": [],
   "source": []
  }
 ],
 "metadata": {
  "kernelspec": {
   "display_name": "Python 3",
   "language": "python",
   "name": "python3"
  },
  "language_info": {
   "codemirror_mode": {
    "name": "ipython",
    "version": 3
   },
   "file_extension": ".py",
   "mimetype": "text/x-python",
   "name": "python",
   "nbconvert_exporter": "python",
   "pygments_lexer": "ipython3",
   "version": "3.7.3"
  }
 },
 "nbformat": 4,
 "nbformat_minor": 2
}
