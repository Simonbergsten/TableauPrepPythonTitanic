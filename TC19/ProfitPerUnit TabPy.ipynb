{
 "cells": [
  {
   "cell_type": "code",
   "execution_count": 73,
   "metadata": {},
   "outputs": [],
   "source": [
    "def profitperunit(_arg1,_arg2):\n",
    "        import numpy as np\n",
    "        return np.divide(_arg1,_arg2).tolist()\n",
    "    "
   ]
  },
  {
   "cell_type": "markdown",
   "metadata": {},
   "source": [
    "Tableau Desktop and Server pass data as lists. \"tolist()\" is necessary to add result to data."
   ]
  },
  {
   "cell_type": "code",
   "execution_count": 74,
   "metadata": {},
   "outputs": [],
   "source": [
    "import tabpy_client"
   ]
  },
  {
   "cell_type": "code",
   "execution_count": 75,
   "metadata": {},
   "outputs": [],
   "source": [
    "tabpy = tabpy_client.Client('http://localhost:9004')"
   ]
  },
  {
   "cell_type": "code",
   "execution_count": 76,
   "metadata": {},
   "outputs": [],
   "source": [
    "tabpy.deploy('profitperunit', profitperunit,'Divides profit by quantity', override=True)"
   ]
  },
  {
   "cell_type": "code",
   "execution_count": 80,
   "metadata": {},
   "outputs": [
    {
     "data": {
      "text/plain": [
       "5.0"
      ]
     },
     "execution_count": 80,
     "metadata": {},
     "output_type": "execute_result"
    }
   ],
   "source": [
    "profitperunit(10,2) #run code locally to verify"
   ]
  },
  {
   "cell_type": "code",
   "execution_count": 81,
   "metadata": {},
   "outputs": [
    {
     "data": {
      "text/plain": [
       "{'loanclassifierfull': {'dependencies': [], 'version': 2, 'last_modified_time': datetime.datetime(2018, 11, 28, 1, 34, 46), 'schema': None, 'description': 'Returns the probablility that a loan will result in a bad loan based on its Grade, Income, SubGradeNum, Purpose, and DTI', 'creation_time': datetime.datetime(2018, 11, 28, 1, 32, 55), 'name': 'loanclassifierfull', 'type': 'model'},\n",
       " 'profitperunit': {'dependencies': [], 'version': 14, 'last_modified_time': datetime.datetime(2019, 11, 8, 16, 0, 52), 'schema': None, 'description': 'Divides profit by quantity', 'creation_time': datetime.datetime(2019, 11, 7, 16, 17, 25), 'name': 'profitperunit', 'type': 'model'}}"
      ]
     },
     "execution_count": 81,
     "metadata": {},
     "output_type": "execute_result"
    }
   ],
   "source": [
    "tabpy.get_endpoints() #check that code was deployed successfully as an endpoint. Note version number"
   ]
  },
  {
   "cell_type": "code",
   "execution_count": 79,
   "metadata": {},
   "outputs": [
    {
     "data": {
      "text/plain": [
       "{'response': 5.0,\n",
       " 'version': 14,\n",
       " 'model': 'profitperunit',\n",
       " 'uuid': '2221e61f-6822-45ad-beb8-82feeda48acd'}"
      ]
     },
     "execution_count": 79,
     "metadata": {},
     "output_type": "execute_result"
    }
   ],
   "source": [
    "tabpy.query('profitperunit',10,2) #can run queries to TabPy outside Tableau as well."
   ]
  },
  {
   "cell_type": "code",
   "execution_count": null,
   "metadata": {},
   "outputs": [],
   "source": []
  }
 ],
 "metadata": {
  "kernelspec": {
   "display_name": "Python 3",
   "language": "python",
   "name": "python3"
  },
  "language_info": {
   "codemirror_mode": {
    "name": "ipython",
    "version": 3
   },
   "file_extension": ".py",
   "mimetype": "text/x-python",
   "name": "python",
   "nbconvert_exporter": "python",
   "pygments_lexer": "ipython3",
   "version": "3.6.6"
  }
 },
 "nbformat": 4,
 "nbformat_minor": 2
}
