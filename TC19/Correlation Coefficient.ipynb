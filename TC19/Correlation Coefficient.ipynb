{
 "cells": [
  {
   "cell_type": "code",
   "execution_count": 2,
   "metadata": {},
   "outputs": [],
   "source": [
    "import numpy as np\n",
    "import matplotlib.pyplot as plt"
   ]
  },
  {
   "cell_type": "code",
   "execution_count": 16,
   "metadata": {},
   "outputs": [
    {
     "name": "stdout",
     "output_type": "stream",
     "text": [
      "0.7071067811865475\n"
     ]
    }
   ],
   "source": [
    "_arg1 = [1,2,3,4,5]\n",
    "_arg2 = [3,3,3,3,3.1]\n",
    "\n",
    "print(np.corrcoef(_arg1,_arg2)[0,1])"
   ]
  },
  {
   "cell_type": "code",
   "execution_count": 17,
   "metadata": {},
   "outputs": [
    {
     "data": {
      "text/plain": [
       "<matplotlib.collections.PathCollection at 0x2b68334add8>"
      ]
     },
     "execution_count": 17,
     "metadata": {},
     "output_type": "execute_result"
    },
    {
     "data": {
      "image/png": "[encoded data removed]",
      "text/plain": [
       "<Figure size 432x288 with 1 Axes>"
      ]
     },
     "metadata": {
      "needs_background": "light"
     },
     "output_type": "display_data"
    }
   ],
   "source": [
    "plt.scatter(_arg1,_arg2)"
   ]
  },
  {
   "cell_type": "code",
   "execution_count": 21,
   "metadata": {},
   "outputs": [
    {
     "name": "stdout",
     "output_type": "stream",
     "text": [
      "0.43643578047198484\n"
     ]
    },
    {
     "data": {
      "text/plain": [
       "<matplotlib.collections.PathCollection at 0x2b683646ac8>"
      ]
     },
     "execution_count": 21,
     "metadata": {},
     "output_type": "execute_result"
    },
    {
     "data": {
      "image/png": "[encoded data removed]",
      "text/plain": [
       "<Figure size 432x288 with 1 Axes>"
      ]
     },
     "metadata": {
      "needs_background": "light"
     },
     "output_type": "display_data"
    }
   ],
   "source": [
    "_arg1 = [1,2,3,4,5,6,7,8]\n",
    "_arg2 = [2.9,3,3,3,3.1,3,3,3]\n",
    "\n",
    "print(np.corrcoef(_arg1,_arg2)[0,1])\n",
    "plt.scatter(_arg1,_arg2)"
   ]
  },
  {
   "cell_type": "code",
   "execution_count": 22,
   "metadata": {},
   "outputs": [
    {
     "name": "stdout",
     "output_type": "stream",
     "text": [
      "0.7803027856662703\n"
     ]
    },
    {
     "data": {
      "text/plain": [
       "<matplotlib.collections.PathCollection at 0x2b683a65ba8>"
      ]
     },
     "execution_count": 22,
     "metadata": {},
     "output_type": "execute_result"
    },
    {
     "data": {
      "image/png": "[encoded data removed]",
      "text/plain": [
       "<Figure size 432x288 with 1 Axes>"
      ]
     },
     "metadata": {
      "needs_background": "light"
     },
     "output_type": "display_data"
    }
   ],
   "source": [
    "_arg1 = [168030.70220000017, 302380.2359999995, 135227.64200000008, 338433.278000002]\n",
    "_arg2 = [-3890.1524000000013, 15064.216400000001, 6503.7271, 13872.581399999997]\n",
    "\n",
    "print(np.corrcoef(_arg1,_arg2)[0,1])\n",
    "plt.scatter(_arg1,_arg2)"
   ]
  },
  {
   "cell_type": "code",
   "execution_count": 55,
   "metadata": {},
   "outputs": [
    {
     "name": "stdout",
     "output_type": "stream",
     "text": [
      "4\n",
      "x: 168030.70220000017\n",
      "type(x): <class 'float'>\n",
      "x: 302380.2359999995\n",
      "type(x): <class 'float'>\n",
      "x: 135227.64200000008\n",
      "type(x): <class 'float'>\n",
      "x: 338433.278000002\n",
      "type(x): <class 'float'>\n",
      "1\n",
      "0.6866685372051993\n"
     ]
    },
    {
     "data": {
      "image/png": "[encoded data removed]",
      "text/plain": [
       "<Figure size 432x288 with 1 Axes>"
      ]
     },
     "metadata": {
      "needs_background": "light"
     },
     "output_type": "display_data"
    }
   ],
   "source": [
    "_arg1 = [168030.70220000017, 302380.2359999995, 135227.64200000008, 338433.278000002]\n",
    "_arg2 = [-3890.1524000000013, 15064.216400000001, 6503.7271, 51651350.54]\n",
    "\n",
    "print(len(_arg1))\n",
    "\n",
    "input_numbers = 1\n",
    "\n",
    "for x in _arg1:\n",
    "    print(\"x: \"+str(x))\n",
    "    print(\"type(x): \"+str(type(x)))\n",
    "    if type(x) == str:\n",
    "        input_numbers = 0\n",
    "print(input_numbers)        \n",
    "\n",
    "if input_numbers == 1:\n",
    "    if len(_arg1) == len(_arg2) and len(_arg1) > 1:\n",
    "        print(np.corrcoef(_arg1,_arg2)[0,1])\n",
    "        plt.scatter(_arg1,_arg2)\n",
    "    else: print(0)\n"
   ]
  },
  {
   "cell_type": "code",
   "execution_count": 36,
   "metadata": {},
   "outputs": [
    {
     "data": {
      "text/plain": [
       "float"
      ]
     },
     "execution_count": 36,
     "metadata": {},
     "output_type": "execute_result"
    }
   ],
   "source": []
  },
  {
   "cell_type": "code",
   "execution_count": 28,
   "metadata": {},
   "outputs": [
    {
     "name": "stdout",
     "output_type": "stream",
     "text": [
      "28\n",
      "32\n"
     ]
    }
   ],
   "source": [
    "_arg1 = [None, None, None, None, 0.26666666666666666, None, 0.2, 0.1, 0.0, 0.2, None, 0.4, None, None, 0.1, 0.15000000000000002, 0.2, 0.0, None, 0.2, 0.2, 0.2, 0.06666666666666667, 0.1, 0.2, None, None, 0.2, 0.4, None, 0.20000000000000004, None, 0.1, 0.0, 0.4, 0.1, 0.0, None, 0.1, None, 0.2, None, 0.26666666666666666, 0.17777777777777776, 0.2, 0.2, 0.20000000000000004, 0.1]\n",
    "new_arg1 = []\n",
    "_arg2 = [None, None, None, None, 464.98850000000004, None, 174.99749999999997, 709.9863, 701.9883, 624.9875, None, 235.9951999999999, None, None, 1858.4616999999998, 1127.9605999999999, 5074.8985, 314.9895, None, 874.9874999999998, 1385.9744, 326.9889, 673.9881, 3227.9455999999996, 119.99599999999992, None, None, 374.99249999999995, 1189.9957999999988, None, 1586.9682999999998, None, 2308.9318, 10991.932799999999, 179.9964, 989.9789999999999, 1379.9769999999999, None, 22625.899299999997, None, 1049.985, None, 999.9795, 2729.9490000000005, 107.99459999999999, 3919.988799999999, 5426.9789, 2540.9577000000004]\n",
    "new_arg2 = []\n",
    "\n",
    "#for x in _arg1:\n",
    "#    if type(x) == float:\n",
    "#        new_arg1.append(x)\n",
    " \n",
    "new_arg1 = list(filter(None,_arg1))\n",
    "new_arg2 = list(filter(None,_arg2))\n",
    "\n",
    "print(len(new_arg1))\n",
    "print(len(new_arg2))"
   ]
  },
  {
   "cell_type": "code",
   "execution_count": 15,
   "metadata": {},
   "outputs": [
    {
     "ename": "TypeError",
     "evalue": "cannot unpack non-iterable NoneType object",
     "output_type": "error",
     "traceback": [
      "\u001b[1;31m---------------------------------------------------------------------------\u001b[0m",
      "\u001b[1;31mTypeError\u001b[0m                                 Traceback (most recent call last)",
      "\u001b[1;32m<ipython-input-15-9419381fc8fd>\u001b[0m in \u001b[0;36m<module>\u001b[1;34m\u001b[0m\n\u001b[0;32m      3\u001b[0m \u001b[0m_arg2\u001b[0m \u001b[1;33m=\u001b[0m \u001b[1;33m[\u001b[0m\u001b[1;32mNone\u001b[0m\u001b[1;33m,\u001b[0m \u001b[1;32mNone\u001b[0m\u001b[1;33m,\u001b[0m \u001b[1;32mNone\u001b[0m\u001b[1;33m,\u001b[0m \u001b[1;32mNone\u001b[0m\u001b[1;33m,\u001b[0m \u001b[1;36m464.98850000000004\u001b[0m\u001b[1;33m,\u001b[0m \u001b[1;32mNone\u001b[0m\u001b[1;33m,\u001b[0m \u001b[1;36m174.99749999999997\u001b[0m\u001b[1;33m,\u001b[0m \u001b[1;36m709.9863\u001b[0m\u001b[1;33m,\u001b[0m \u001b[1;36m701.9883\u001b[0m\u001b[1;33m,\u001b[0m \u001b[1;36m624.9875\u001b[0m\u001b[1;33m,\u001b[0m \u001b[1;32mNone\u001b[0m\u001b[1;33m,\u001b[0m \u001b[1;36m235.9951999999999\u001b[0m\u001b[1;33m,\u001b[0m \u001b[1;32mNone\u001b[0m\u001b[1;33m,\u001b[0m \u001b[1;32mNone\u001b[0m\u001b[1;33m,\u001b[0m \u001b[1;36m1858.4616999999998\u001b[0m\u001b[1;33m,\u001b[0m \u001b[1;36m1127.9605999999999\u001b[0m\u001b[1;33m,\u001b[0m \u001b[1;36m5074.8985\u001b[0m\u001b[1;33m,\u001b[0m \u001b[1;36m314.9895\u001b[0m\u001b[1;33m,\u001b[0m \u001b[1;32mNone\u001b[0m\u001b[1;33m,\u001b[0m \u001b[1;36m874.9874999999998\u001b[0m\u001b[1;33m,\u001b[0m \u001b[1;36m1385.9744\u001b[0m\u001b[1;33m,\u001b[0m \u001b[1;36m326.9889\u001b[0m\u001b[1;33m,\u001b[0m \u001b[1;36m673.9881\u001b[0m\u001b[1;33m,\u001b[0m \u001b[1;36m3227.9455999999996\u001b[0m\u001b[1;33m,\u001b[0m \u001b[1;36m119.99599999999992\u001b[0m\u001b[1;33m,\u001b[0m \u001b[1;32mNone\u001b[0m\u001b[1;33m,\u001b[0m \u001b[1;32mNone\u001b[0m\u001b[1;33m,\u001b[0m \u001b[1;36m374.99249999999995\u001b[0m\u001b[1;33m,\u001b[0m \u001b[1;36m1189.9957999999988\u001b[0m\u001b[1;33m,\u001b[0m \u001b[1;32mNone\u001b[0m\u001b[1;33m,\u001b[0m \u001b[1;36m1586.9682999999998\u001b[0m\u001b[1;33m,\u001b[0m \u001b[1;32mNone\u001b[0m\u001b[1;33m,\u001b[0m \u001b[1;36m2308.9318\u001b[0m\u001b[1;33m,\u001b[0m \u001b[1;36m10991.932799999999\u001b[0m\u001b[1;33m,\u001b[0m \u001b[1;36m179.9964\u001b[0m\u001b[1;33m,\u001b[0m \u001b[1;36m989.9789999999999\u001b[0m\u001b[1;33m,\u001b[0m \u001b[1;36m1379.9769999999999\u001b[0m\u001b[1;33m,\u001b[0m \u001b[1;32mNone\u001b[0m\u001b[1;33m,\u001b[0m \u001b[1;36m22625.899299999997\u001b[0m\u001b[1;33m,\u001b[0m \u001b[1;32mNone\u001b[0m\u001b[1;33m,\u001b[0m \u001b[1;36m1049.985\u001b[0m\u001b[1;33m,\u001b[0m \u001b[1;32mNone\u001b[0m\u001b[1;33m,\u001b[0m \u001b[1;36m999.9795\u001b[0m\u001b[1;33m,\u001b[0m \u001b[1;36m2729.9490000000005\u001b[0m\u001b[1;33m,\u001b[0m \u001b[1;36m107.99459999999999\u001b[0m\u001b[1;33m,\u001b[0m \u001b[1;36m3919.988799999999\u001b[0m\u001b[1;33m,\u001b[0m \u001b[1;36m5426.9789\u001b[0m\u001b[1;33m,\u001b[0m \u001b[1;36m2540.9577000000004\u001b[0m\u001b[1;33m]\u001b[0m\u001b[1;33m\u001b[0m\u001b[1;33m\u001b[0m\u001b[0m\n\u001b[0;32m      4\u001b[0m \u001b[0marg2copy\u001b[0m \u001b[1;33m=\u001b[0m \u001b[0m_arg2\u001b[0m\u001b[1;33m\u001b[0m\u001b[1;33m\u001b[0m\u001b[0m\n\u001b[1;32m----> 5\u001b[1;33m \u001b[1;32mfor\u001b[0m \u001b[0mi\u001b[0m\u001b[1;33m,\u001b[0m \u001b[0mx\u001b[0m \u001b[1;32min\u001b[0m \u001b[0m_arg1\u001b[0m\u001b[1;33m:\u001b[0m\u001b[1;33m\u001b[0m\u001b[1;33m\u001b[0m\u001b[0m\n\u001b[0m\u001b[0;32m      6\u001b[0m     \u001b[1;32mif\u001b[0m \u001b[0mx\u001b[0m \u001b[1;33m==\u001b[0m \u001b[1;34m\"None\"\u001b[0m\u001b[1;33m:\u001b[0m\u001b[1;33m\u001b[0m\u001b[1;33m\u001b[0m\u001b[0m\n\u001b[0;32m      7\u001b[0m         \u001b[0mprint\u001b[0m\u001b[1;33m(\u001b[0m\u001b[1;34m\"x\"\u001b[0m\u001b[1;33m+\u001b[0m\u001b[0mstr\u001b[0m\u001b[1;33m(\u001b[0m\u001b[0mx\u001b[0m\u001b[1;33m)\u001b[0m\u001b[1;33m)\u001b[0m\u001b[1;33m\u001b[0m\u001b[1;33m\u001b[0m\u001b[0m\n",
      "\u001b[1;31mTypeError\u001b[0m: cannot unpack non-iterable NoneType object"
     ]
    }
   ],
   "source": [
    "print(np.corrcoef(_arg1,_arg2)[0,1])\n",
    "plt.scatter(_arg1,_arg2)"
   ]
  },
  {
   "cell_type": "code",
   "execution_count": 11,
   "metadata": {},
   "outputs": [],
   "source": [
    "del _arg1[0]"
   ]
  },
  {
   "cell_type": "code",
   "execution_count": 12,
   "metadata": {},
   "outputs": [
    {
     "name": "stdout",
     "output_type": "stream",
     "text": [
      "[None, None, None, 0.26666666666666666, None, 0.2, 0.1, 0.0, 0.2, None, 0.4, None, None, 0.1, 0.15000000000000002, 0.2, 0.0, None, 0.2, 0.2, 0.2, 0.06666666666666667, 0.1, 0.2, None, None, 0.2, 0.4, None, 0.20000000000000004, None, 0.1, 0.0, 0.4, 0.1, 0.0, None, 0.1, None, 0.2, None, 0.26666666666666666, 0.17777777777777776, 0.2, 0.2, 0.20000000000000004, 0.1]\n"
     ]
    }
   ],
   "source": [
    "print(_arg1)"
   ]
  },
  {
   "cell_type": "code",
   "execution_count": null,
   "metadata": {},
   "outputs": [],
   "source": []
  }
 ],
 "metadata": {
  "kernelspec": {
   "display_name": "Python 3",
   "language": "python",
   "name": "python3"
  },
  "language_info": {
   "codemirror_mode": {
    "name": "ipython",
    "version": 3
   },
   "file_extension": ".py",
   "mimetype": "text/x-python",
   "name": "python",
   "nbconvert_exporter": "python",
   "pygments_lexer": "ipython3",
   "version": "3.7.3"
  }
 },
 "nbformat": 4,
 "nbformat_minor": 2
}
